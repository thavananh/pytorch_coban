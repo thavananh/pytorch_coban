{
 "cells": [
  {
   "cell_type": "code",
   "execution_count": 1,
   "id": "3dacad9f",
   "metadata": {},
   "outputs": [
    {
     "name": "stderr",
     "output_type": "stream",
     "text": [
      "/home/duycute/.pyenv/versions/AI_ENV/lib/python3.11/site-packages/tqdm/auto.py:21: TqdmWarning: IProgress not found. Please update jupyter and ipywidgets. See https://ipywidgets.readthedocs.io/en/stable/user_install.html\n",
      "  from .autonotebook import tqdm as notebook_tqdm\n",
      "Repo card metadata block was not found. Setting CardData to empty.\n"
     ]
    }
   ],
   "source": [
    "from datasets import load_dataset\n",
    "\n",
    "ds = load_dataset(\"NEUDM/aste-data-v2\")"
   ]
  },
  {
   "cell_type": "code",
   "execution_count": 2,
   "id": "c2039f0b",
   "metadata": {},
   "outputs": [
    {
     "name": "stdout",
     "output_type": "stream",
     "text": [
      "DatasetDict({\n",
      "    train: Dataset({\n",
      "        features: ['task_type', 'dataset', 'input', 'output', 'situation', 'label', 'extra', 'instruction'],\n",
      "        num_rows: 3634\n",
      "    })\n",
      "    validation: Dataset({\n",
      "        features: ['task_type', 'dataset', 'input', 'output', 'situation', 'label', 'extra', 'instruction'],\n",
      "        num_rows: 887\n",
      "    })\n",
      "    test: Dataset({\n",
      "        features: ['task_type', 'dataset', 'input', 'output', 'situation', 'label', 'extra', 'instruction'],\n",
      "        num_rows: 1468\n",
      "    })\n",
      "})\n"
     ]
    }
   ],
   "source": [
    "print(ds)"
   ]
  }
 ],
 "metadata": {
  "kernelspec": {
   "display_name": "AI_ENV",
   "language": "python",
   "name": "python3"
  },
  "language_info": {
   "codemirror_mode": {
    "name": "ipython",
    "version": 3
   },
   "file_extension": ".py",
   "mimetype": "text/x-python",
   "name": "python",
   "nbconvert_exporter": "python",
   "pygments_lexer": "ipython3",
   "version": "3.11.11"
  }
 },
 "nbformat": 4,
 "nbformat_minor": 5
}
