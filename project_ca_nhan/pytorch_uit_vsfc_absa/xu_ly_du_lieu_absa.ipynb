{
 "cells": [
  {
   "cell_type": "code",
   "execution_count": 1,
   "id": "9a40cb0d",
   "metadata": {},
   "outputs": [],
   "source": [
    "import pandas as pd\n",
    "pd.set_option('display.max_columns', None)\n",
    "pd.set_option('display.max_rows', None)"
   ]
  },
  {
   "cell_type": "code",
   "execution_count": 2,
   "id": "b3480a72",
   "metadata": {},
   "outputs": [
    {
     "name": "stdout",
     "output_type": "stream",
     "text": [
      "| id   | Review                                                                       | Sentence Component                                                         | aspect_text                        | aspect              | sentiment_text                                          | sentiment   |\n",
      "|:-----|:-----------------------------------------------------------------------------|:---------------------------------------------------------------------------|:-----------------------------------|:--------------------|:--------------------------------------------------------|:------------|\n",
      "| 1    | slide giáo trình đầy đủ .                                                    | slide giáo trình đầy đủ                                                    | slide giáo trình                   | Course information  | đầy đủ                                                  | Positive    |\n",
      "| 2    | nhiệt tình giảng dạy , gần gũi với sinh viên .                               | nhiệt tình giảng dạy , gần gũi với sinh viên                               | giảng dạy                          | Teaching quality    | nhiệt tình giảng dạy , gần gũi với sinh viên            | Positive    |\n",
      "| 3    | đi học đầy đủ full điểm chuyên cần .                                         | đi học đầy đủ full điểm chuyên cần                                         | đi học đầy đủ full điểm chuyên cần | Test and evaluation | full điểm chuyên cần                                    | Positive    |\n",
      "| 4    | chưa áp dụng công nghệ thông tin và các thiết bị hỗ trợ cho việc giảng dạy . | chưa áp dụng công nghệ thông tin và các thiết bị hỗ trợ cho việc giảng dạy | việc giảng dạy                     | Teaching quality    | chưa áp dụng công nghệ thông tin và các thiết bị hỗ trợ | Negative    |\n",
      "| 5    | thầy giảng bài hay , có nhiều bài tập ví dụ ngay trên lớp .                  | thầy giảng bài hay                                                         | thầy giảng bài                     | Teaching quality    | giảng bài hay                                           | Positive    |\n",
      "<class 'pandas.core.frame.DataFrame'>\n",
      "RangeIndex: 157 entries, 0 to 156\n",
      "Data columns (total 7 columns):\n",
      " #   Column              Non-Null Count  Dtype \n",
      "---  ------              --------------  ----- \n",
      " 0   id                  157 non-null    int64 \n",
      " 1   Review              157 non-null    object\n",
      " 2   Sentence Component  157 non-null    object\n",
      " 3   aspect_text         157 non-null    object\n",
      " 4   aspect              157 non-null    object\n",
      " 5   sentiment_text      157 non-null    object\n",
      " 6   sentiment           157 non-null    object\n",
      "dtypes: int64(1), object(6)\n",
      "memory usage: 8.7+ KB\n",
      "None\n"
     ]
    }
   ],
   "source": [
    "df = pd.read_csv('./all/formattedCsv_duy 1-100_13102024.csv')\n",
    "print(df.head().to_markdown(index=False, numalign=\"left\", stralign=\"left\"))\n",
    "print(df.info())    "
   ]
  },
  {
   "cell_type": "code",
   "execution_count": 3,
   "id": "f830c6ca",
   "metadata": {},
   "outputs": [
    {
     "name": "stdout",
     "output_type": "stream",
     "text": [
      "['Course information' 'Teaching quality' 'Test and evaluation'\n",
      " 'Support from lecturers' 'General review' 'Organization and management'\n",
      " 'Learning environment' 'Workload']\n",
      "['Positive' 'Negative' 'Neutral']\n"
     ]
    }
   ],
   "source": [
    "# Get all unique values from `aspect`\n",
    "unique_aspect_values = df['aspect'].unique()\n",
    "\n",
    "# Check the number of unique values in `aspect`\n",
    "if len(unique_aspect_values) > 50:\n",
    "  # If there are too many unique values, sample the top 50\n",
    "  top_occurring_aspect_values = df['aspect'].value_counts().head(50).index.tolist()\n",
    "  print(top_occurring_aspect_values)\n",
    "else:\n",
    "  # Otherwise print all unique valus in `aspect`\n",
    "  print(unique_aspect_values)\n",
    "\n",
    "# Get all unique values from `sentiment`\n",
    "unique_sentiment_values = df['sentiment'].unique()\n",
    "\n",
    "# Check the number of unique values in `sentiment`\n",
    "if len(unique_sentiment_values) > 50:\n",
    "  # If there are too many unique values, sample the top 50\n",
    "  top_occurring_sentiment_values = df['sentiment'].value_counts().head(50).index.tolist()\n",
    "  print(top_occurring_sentiment_values)\n",
    "else:\n",
    "  # Otherwise print all unique valus in `sentiment`\n",
    "  print(unique_sentiment_values)"
   ]
  },
  {
   "cell_type": "code",
   "execution_count": 4,
   "id": "03b43170",
   "metadata": {},
   "outputs": [
    {
     "name": "stdout",
     "output_type": "stream",
     "text": [
      "Sentiment Counts by Aspect:\n",
      "\n",
      "|                                             | count   |\n",
      "|:--------------------------------------------|:--------|\n",
      "| ('Course information', 'Negative')          | 14      |\n",
      "| ('Course information', 'Positive')          | 10      |\n",
      "| ('Course information', 'Neutral')           | 5       |\n",
      "| ('General review', 'Neutral')               | 5       |\n",
      "| ('General review', 'Negative')              | 3       |\n",
      "| ('General review', 'Positive')              | 2       |\n",
      "| ('Learning environment', 'Negative')        | 6       |\n",
      "| ('Learning environment', 'Positive')        | 4       |\n",
      "| ('Organization and management', 'Negative') | 2       |\n",
      "| ('Organization and management', 'Neutral')  | 1       |\n",
      "| ('Support from lecturers', 'Positive')      | 15      |\n",
      "| ('Support from lecturers', 'Negative')      | 6       |\n",
      "| ('Teaching quality', 'Positive')            | 49      |\n",
      "| ('Teaching quality', 'Negative')            | 18      |\n",
      "| ('Teaching quality', 'Neutral')             | 4       |\n",
      "| ('Test and evaluation', 'Negative')         | 3       |\n",
      "| ('Test and evaluation', 'Neutral')          | 2       |\n",
      "| ('Test and evaluation', 'Positive')         | 2       |\n",
      "| ('Workload', 'Negative')                    | 5       |\n",
      "| ('Workload', 'Positive')                    | 1       |\n"
     ]
    }
   ],
   "source": [
    "# Group by `aspect` and calculate value counts of `sentiment`\n",
    "sentiment_counts_by_aspect = df.groupby('aspect')['sentiment'].value_counts()\n",
    "\n",
    "# Print the sentiment counts for each aspect\n",
    "print(\"Sentiment Counts by Aspect:\\n\")\n",
    "print(sentiment_counts_by_aspect.to_markdown(numalign=\"left\", stralign=\"left\"))"
   ]
  },
  {
   "cell_type": "code",
   "execution_count": 7,
   "id": "ca1d2f2b",
   "metadata": {},
   "outputs": [
    {
     "name": "stdout",
     "output_type": "stream",
     "text": [
      "[[5 2]\n",
      " [4 2]\n",
      " [5 0]\n",
      " ...\n",
      " [0 0]\n",
      " [5 2]\n",
      " [2 1]]\n",
      "X_train shape: (6222, 5000)\n",
      "y_train shape: (6222, 2)\n",
      "X_test shape: (1556, 5000)\n",
      "y_test shape: (1556, 2)\n",
      "[[5 0]\n",
      " [4 2]\n",
      " [4 2]\n",
      " ...\n",
      " [4 2]\n",
      " [5 2]\n",
      " [5 2]]\n",
      "\n",
      "Classification Report for Sentiment:\n",
      "              precision    recall  f1-score   support\n",
      "\n",
      "    Negative       0.84      0.88      0.86       521\n",
      "     Neutral       0.72      0.61      0.66       232\n",
      "    Positive       0.91      0.92      0.91       803\n",
      "\n",
      "    accuracy                           0.86      1556\n",
      "   macro avg       0.82      0.80      0.81      1556\n",
      "weighted avg       0.86      0.86      0.86      1556\n",
      "\n",
      "Classification Report for Aspect:\n",
      "                             precision    recall  f1-score   support\n",
      "\n",
      "         Course information       0.66      0.61      0.63       135\n",
      "             General review       0.53      0.43      0.47       110\n",
      "       Learning environment       0.82      0.78      0.80        98\n",
      "Organization and management       0.74      0.50      0.60       106\n",
      "     Support from lecturers       0.73      0.73      0.73       378\n",
      "           Teaching quality       0.75      0.83      0.79       621\n",
      "        Test and evaluation       0.59      0.47      0.52        47\n",
      "                   Workload       0.64      0.74      0.69        61\n",
      "\n",
      "                   accuracy                           0.72      1556\n",
      "                  macro avg       0.68      0.63      0.65      1556\n",
      "               weighted avg       0.71      0.72      0.71      1556\n",
      "\n"
     ]
    }
   ],
   "source": [
    "import pandas as pd\n",
    "from sklearn.feature_extraction.text import TfidfVectorizer\n",
    "import numpy as np\n",
    "\n",
    "# Đọc dữ liệu\n",
    "data = pd.read_csv(\"combined_cleaned_file.csv\")\n",
    "\n",
    "# Tiền xử lý văn bản (ví dụ đơn giản)\n",
    "data[\"processed_text\"] = data[\"Sentence Component\"].str.lower().str.replace(\"[^\\w\\s]\", \"\")\n",
    "\n",
    "# Vector hóa bằng TF-IDF\n",
    "tfidf = TfidfVectorizer(ngram_range=(1, 2), max_features=5000)\n",
    "X = tfidf.fit_transform(data[\"processed_text\"])\n",
    "\n",
    "\n",
    "from sklearn.preprocessing import LabelEncoder\n",
    "\n",
    "# Mã hóa aspect\n",
    "aspect_encoder = LabelEncoder()\n",
    "y_aspect = aspect_encoder.fit_transform(data[\"aspect\"])\n",
    "\n",
    "# Mã hóa sentiment\n",
    "sentiment_encoder = LabelEncoder()\n",
    "y_sentiment = sentiment_encoder.fit_transform(data[\"sentiment\"])\n",
    "\n",
    "from sklearn.model_selection import train_test_split\n",
    "from sklearn.multioutput import MultiOutputClassifier\n",
    "from sklearn.ensemble import RandomForestClassifier\n",
    "from sklearn.metrics import classification_report\n",
    "\n",
    "# Chia dữ liệu thành train/test\n",
    "X_train, X_test, y_train_aspect, y_test_aspect, y_train_sentiment, y_test_sentiment = train_test_split(\n",
    "    X,\n",
    "    y_aspect,\n",
    "    y_sentiment,\n",
    "    test_size=0.2,\n",
    "    random_state=42\n",
    ")\n",
    "\n",
    "# Kết hợp y_aspect và y_sentiment thành một mảng 2D\n",
    "y_train = np.column_stack((y_train_aspect, y_train_sentiment))\n",
    "y_test = np.column_stack((y_test_aspect, y_test_sentiment))\n",
    "\n",
    "# print(X_train)\n",
    "print(y_train)\n",
    "print(\"X_train shape:\", X_train.shape)\n",
    "print(\"y_train shape:\", y_train.shape)\n",
    "print(\"X_test shape:\", X_test.shape)\n",
    "print(\"y_test shape:\", y_test.shape)\n",
    "\n",
    "# Huấn luyện mô hình\n",
    "model = MultiOutputClassifier(RandomForestClassifier(n_estimators=100, random_state=42))\n",
    "model.fit(X_train, y_train)\n",
    "\n",
    "# Dự đoán\n",
    "y_pred = model.predict(X_test)\n",
    "print(y_pred)\n",
    "\n",
    "print(\"\\nClassification Report for Sentiment:\")\n",
    "print(classification_report(y_test[:, 1], y_pred[:, 1], target_names=sentiment_encoder.classes_))\n",
    "\n",
    "# In báo cáo phân loại cho từng nhãn\n",
    "print(\"Classification Report for Aspect:\")\n",
    "print(classification_report(y_test[:, 0], y_pred[:, 0], target_names=aspect_encoder.classes_))\n",
    "\n",
    "\n"
   ]
  },
  {
   "cell_type": "code",
   "execution_count": 8,
   "id": "1534b8e1",
   "metadata": {},
   "outputs": [
    {
     "name": "stdout",
     "output_type": "stream",
     "text": [
      "Aspect: Teaching quality, Sentiment: Positive\n"
     ]
    }
   ],
   "source": [
    "def predict_aspect_sentiment(text):\n",
    "    # Tiền xử lý\n",
    "    processed_text = text.lower().replace(\"[^\\w\\s]\", \"\")\n",
    "    # Vector hóa\n",
    "    text_tfidf = tfidf.transform([processed_text])\n",
    "    # Dự đoán\n",
    "    pred = model.predict(text_tfidf)\n",
    "    aspect = aspect_encoder.inverse_transform([pred[0][0]])[0]\n",
    "    sentiment = sentiment_encoder.inverse_transform([pred[0][1]])[0]\n",
    "    return aspect, sentiment\n",
    "\n",
    "# Test\n",
    "text = \"giáo viên nhiệt tình , tâm huyết , khả năng truyền đạt tốt .\"\n",
    "aspect, sentiment = predict_aspect_sentiment(text)\n",
    "print(f\"Aspect: {aspect}, Sentiment: {sentiment}\")"
   ]
  }
 ],
 "metadata": {
  "kernelspec": {
   "display_name": "Ai_ENV",
   "language": "python",
   "name": "python3"
  },
  "language_info": {
   "codemirror_mode": {
    "name": "ipython",
    "version": 3
   },
   "file_extension": ".py",
   "mimetype": "text/x-python",
   "name": "python",
   "nbconvert_exporter": "python",
   "pygments_lexer": "ipython3",
   "version": "3.11.11"
  }
 },
 "nbformat": 4,
 "nbformat_minor": 5
}
