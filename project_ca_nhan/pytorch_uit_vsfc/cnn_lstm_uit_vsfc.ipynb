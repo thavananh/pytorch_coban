{
 "cells": [
  {
   "cell_type": "code",
   "execution_count": 1,
   "id": "2f8d2ca9",
   "metadata": {},
   "outputs": [
    {
     "name": "stderr",
     "output_type": "stream",
     "text": [
      "/home/duycute/.pyenv/versions/AI_ENV/lib/python3.11/site-packages/tqdm/auto.py:21: TqdmWarning: IProgress not found. Please update jupyter and ipywidgets. See https://ipywidgets.readthedocs.io/en/stable/user_install.html\n",
      "  from .autonotebook import tqdm as notebook_tqdm\n"
     ]
    }
   ],
   "source": [
    "import os\n",
    "import pandas as pd\n",
    "from sklearn.model_selection import train_test_split\n",
    "from sklearn.metrics import classification_report\n",
    "from transformers import AutoModel, AutoTokenizer\n",
    "import torch\n",
    "from torch.utils.data import DataLoader, TensorDataset\n",
    "from torch import cuda\n",
    "from torch import nn\n",
    "import matplotlib.pyplot as plt\n",
    "from torch.nn import CrossEntropyLoss\n",
    "from torch.optim.lr_scheduler import ReduceLROnPlateau\n",
    "from tqdm import tqdm"
   ]
  },
  {
   "cell_type": "code",
   "execution_count": 2,
   "id": "60834bd6",
   "metadata": {},
   "outputs": [],
   "source": [
    "train_df = pd.read_csv('processed_train.csv').dropna()\n",
    "test_df = pd.read_csv('processed_test.csv').dropna()\n",
    "val_df = pd.read_csv('processed_dev.csv').dropna()\n",
    "combine_df = pd.concat([train_df, test_df, val_df], axis=0)"
   ]
  },
  {
   "cell_type": "code",
   "execution_count": null,
   "id": "a9b9ec91",
   "metadata": {},
   "outputs": [],
   "source": []
  },
  {
   "cell_type": "code",
   "execution_count": 3,
   "id": "a1718487",
   "metadata": {},
   "outputs": [
    {
     "name": "stdout",
     "output_type": "stream",
     "text": [
      "[ 0.02070284 -1.0119519   0.57404983 -0.11280711  0.31829545  0.3470798\n",
      "  0.2851432   1.022446   -0.96002614  1.2067517  -0.05920178  0.2648332\n",
      "  0.32561752  0.27830666 -0.56950396 -1.0004159   1.1067235   0.37259385\n",
      "  0.5141708  -1.6758575   0.03684409 -0.4951272  -0.6109479   1.748459\n",
      "  0.57601935  0.06697413  0.25553152  0.07281411 -0.08326273  0.3956744\n",
      "  0.50803405 -0.3996895   0.7021373   0.13274725  0.7128868  -0.19924082\n",
      "  0.3326799  -0.00801534  0.18634108  0.873947   -0.1134365   0.63755286\n",
      "  1.3213987  -0.75758857  0.78165257  0.41331503 -0.16529118  0.74204576\n",
      "  0.56394356  0.05520832  0.4046231   0.2849004   0.27896354 -0.65093905\n",
      " -0.5959144   0.84341675 -2.0013673   0.5539497   0.0987426   0.531587\n",
      "  0.00711757  0.67261785 -0.7883726  -0.24388342 -0.41002724  0.89668816\n",
      " -0.70828396 -0.20573616 -0.31184977  0.17140909  0.19463415 -1.202256\n",
      "  0.82771903 -0.11967913  0.2882521  -0.5867547  -0.24788734 -0.30098444\n",
      "  0.01948187 -1.3908721  -1.1425048  -0.44971886  0.558405    0.97826165\n",
      " -0.8665601  -1.4844847  -0.6408066   0.6822444  -0.36468044  0.6656241\n",
      "  0.1355314   0.08998756 -0.4205555  -1.2632397   0.41096362 -0.11841397\n",
      "  0.475133    0.42225212  0.4889102  -0.81017834]\n"
     ]
    }
   ],
   "source": [
    "from gensim.models import FastText\n",
    "from underthesea import word_tokenize\n",
    "\n",
    "\n",
    "\n",
    "tokens_list_combine = [word_tokenize(text) for text in combine_df.text]\n",
    "train_text_tokens = [word_tokenize(text) for text in train_df.text]\n",
    "test_text_tokens = [word_tokenize(text) for text in test_df.text]\n",
    "val_text_tokens = [word_tokenize(text) for text in val_df.text]\n",
    "\n",
    "# tokens_list_combine = [text.split() for text in combine_df.text]\n",
    "# train_text_tokens = [text.split() for text in train_df.text]\n",
    "# test_text_tokens = [text.split() for text in test_df.text]\n",
    "# val_text_tokens = [text.split() for text in val_df.text]\n",
    "\n",
    "# Tạo tập dữ liệu huấn luyện (mỗi câu là một danh sách từ)\n",
    "# sentences = [text.split() for text in combine_df.text]\n",
    "sentences = [word_tokenize(text) for text in combine_df.text]\n",
    "\n",
    "# Huấn luyện FastText\n",
    "fasttext = FastText(tokens_list_combine, vector_size=100, window=10, min_count=3, workers=4)\n",
    "\n",
    "# Kiểm tra vector của một từ\n",
    "print(fasttext.wv[\"học\"])  # Lấy vector của từ \"học\""
   ]
  },
  {
   "cell_type": "code",
   "execution_count": 4,
   "id": "053e79e6",
   "metadata": {},
   "outputs": [
    {
     "name": "stderr",
     "output_type": "stream",
     "text": [
      "2025-03-27 13:51:41.583860: E external/local_xla/xla/stream_executor/cuda/cuda_fft.cc:467] Unable to register cuFFT factory: Attempting to register factory for plugin cuFFT when one has already been registered\n",
      "WARNING: All log messages before absl::InitializeLog() is called are written to STDERR\n",
      "E0000 00:00:1743058309.071882    2586 cuda_dnn.cc:8579] Unable to register cuDNN factory: Attempting to register factory for plugin cuDNN when one has already been registered\n",
      "E0000 00:00:1743058309.116004    2586 cuda_blas.cc:1407] Unable to register cuBLAS factory: Attempting to register factory for plugin cuBLAS when one has already been registered\n",
      "W0000 00:00:1743058302.212564    2586 computation_placer.cc:177] computation placer already registered. Please check linkage and avoid linking the same target more than once.\n",
      "W0000 00:00:1743058302.212597    2586 computation_placer.cc:177] computation placer already registered. Please check linkage and avoid linking the same target more than once.\n",
      "W0000 00:00:1743058302.212599    2586 computation_placer.cc:177] computation placer already registered. Please check linkage and avoid linking the same target more than once.\n",
      "W0000 00:00:1743058302.212601    2586 computation_placer.cc:177] computation placer already registered. Please check linkage and avoid linking the same target more than once.\n",
      "2025-03-27 13:51:42.248475: I tensorflow/core/platform/cpu_feature_guard.cc:210] This TensorFlow binary is optimized to use available CPU instructions in performance-critical operations.\n",
      "To enable the following instructions: AVX2 FMA, in other operations, rebuild TensorFlow with the appropriate compiler flags.\n"
     ]
    },
    {
     "name": "stdout",
     "output_type": "stream",
     "text": [
      "input data shape: torch.Size([11425, 160])\n",
      "data_vocab_size: 4095\n",
      "training sample: 11425\n",
      "validation sample: 1583\n",
      "test sample: 3166\n"
     ]
    }
   ],
   "source": [
    "import numpy as np\n",
    "import torch\n",
    "import torch.nn as nn\n",
    "from tensorflow.keras.preprocessing.text import Tokenizer\n",
    "from tensorflow.keras.preprocessing.sequence import pad_sequences\n",
    "import pickle\n",
    "\n",
    "tokenizer_data = Tokenizer(filters='!\"#$%&*+,-./;<=>?@[\\\\]^{|}~\\t\\n')\n",
    "tokenizer_data.fit_on_texts(tokens_list_combine)\n",
    "\n",
    "tokenized_data_text_train = tokenizer_data.texts_to_sequences(train_text_tokens)\n",
    "train_features = pad_sequences(tokenized_data_text_train, maxlen=160)\n",
    "\n",
    "tokenized_data_text_test = tokenizer_data.texts_to_sequences(test_text_tokens)\n",
    "test_features = pad_sequences(tokenized_data_text_test, maxlen=160)\n",
    "\n",
    "tokenized_data_text_val = tokenizer_data.texts_to_sequences(val_text_tokens)\n",
    "val_features = pad_sequences(tokenized_data_text_val, maxlen=160)\n",
    "\n",
    "pickle.dump(tokenizer_data, open(\"tokenizer_data.pkl\", \"wb\"))\n",
    "data_vocab_size = len(tokenizer_data.word_index) + 1\n",
    "\n",
    "# Convert to PyTorch tensors\n",
    "train_features = torch.tensor(train_features, dtype=torch.long)\n",
    "test_features = torch.tensor(test_features, dtype=torch.long)\n",
    "val_features = torch.tensor(val_features, dtype=torch.long)\n",
    "\n",
    "print(\"input data shape:\", train_features.shape)\n",
    "print(\"data_vocab_size:\", data_vocab_size)\n",
    "print(\"training sample:\", len(train_features))\n",
    "print(\"validation sample:\", len(val_features))\n",
    "print(\"test sample:\", len(test_features))"
   ]
  },
  {
   "cell_type": "code",
   "execution_count": 5,
   "id": "ce712995",
   "metadata": {},
   "outputs": [
    {
     "name": "stdout",
     "output_type": "stream",
     "text": [
      "Found 1765 word vectors.\n",
      "Vocab size 1765\n",
      "Fasttext embedding shape: torch.Size([10000, 100])\n"
     ]
    }
   ],
   "source": [
    "import numpy as np\n",
    "embeddings_index = {}\n",
    "for w in fasttext.wv.key_to_index.keys():\n",
    "    embeddings_index[w] = fasttext.wv[w]\n",
    "print('Found %s word vectors.' % len(embeddings_index))\n",
    "words = fasttext.wv.key_to_index.keys()\n",
    "vocab_size = len(words)\n",
    "print(\"Vocab size\", vocab_size)\n",
    "# Initialize the embedding matrix with the correct shape\n",
    "embedding_dim = 100  # FastText vector size\n",
    "embedding_matrix = np.zeros((10000, embedding_dim))\n",
    "\n",
    "# Populate the embedding matrix\n",
    "for word, i in tokenizer_data.word_index.items():\n",
    "    if i >= data_vocab_size:\n",
    "        continue\n",
    "    embedding_vector = embeddings_index.get(word)\n",
    "    if embedding_vector is not None:\n",
    "        embedding_matrix[i] = embedding_vector\n",
    "\n",
    "embedding_matrix = torch.tensor(embedding_matrix, dtype=torch.float32)\n",
    "print(f'Fasttext embedding shape: {embedding_matrix.shape}')"
   ]
  },
  {
   "cell_type": "code",
   "execution_count": 6,
   "id": "4e217d77",
   "metadata": {},
   "outputs": [],
   "source": [
    "y_train = torch.tensor(train_df[\"label\"].astype(\"category\").cat.codes.tolist())\n",
    "y_test = torch.tensor(test_df[\"label\"].astype(\"category\").cat.codes.tolist())\n",
    "y_val = torch.tensor(val_df[\"label\"].astype(\"category\").cat.codes.tolist())"
   ]
  },
  {
   "cell_type": "code",
   "execution_count": 7,
   "id": "bee28150",
   "metadata": {},
   "outputs": [],
   "source": [
    "import torch\n",
    "import torch.nn as nn\n",
    "import torch.nn.functional as F\n",
    "\n",
    "class CNN_LSTM_DTHSH(nn.Module):\n",
    "    def __init__(self, embedding_dim, embedding_matrix, num_labels):\n",
    "        super(CNN_LSTM_DTHSH, self).__init__()\n",
    "        self.embedding = nn.Embedding.from_pretrained(embedding_matrix)\n",
    "        \n",
    "        # Corrected Conv1d layers\n",
    "        self.conv1 = nn.Conv1d(in_channels=embedding_dim, out_channels=128, kernel_size=3)\n",
    "        self.conv2 = nn.Conv1d(in_channels=128, out_channels=128, kernel_size=3)  # Fixed in_channels\n",
    "        \n",
    "        # Corrected LSTM input_size\n",
    "        self.lstm1 = nn.LSTM(input_size=embedding_dim, hidden_size=384, num_layers=3, batch_first=True)\n",
    "        \n",
    "        # Corrected MultiheadAttention embed_dim\n",
    "        self.multihead_attn = nn.MultiheadAttention(embed_dim=384, num_heads=8, dropout=0.3, batch_first=True)\n",
    "        \n",
    "        self.layer_norm = nn.LayerNorm(512)  # 128 (CNN) + 128 (Attention) = 256\n",
    "        self.fc1 = nn.Linear(512, 256)\n",
    "        self.fc2 = nn.Linear(256, 128)\n",
    "        self.fc3 = nn.Linear(128, num_labels)\n",
    "\n",
    "    def forward(self, x):\n",
    "        x = self.embedding(x)  # Shape: (batch_size, seq_len, embedding_dim)\n",
    "        \n",
    "        # CNN Path\n",
    "        x_cnn = x.permute(0, 2, 1)  # Shape: (batch_size, embedding_dim, seq_len)\n",
    "        x_cnn = F.relu(self.conv1(x_cnn))  # Shape: (batch_size, 128, seq_len - 2)\n",
    "        x_cnn = F.relu(self.conv2(x_cnn))  # Shape: (batch_size, 128, seq_len - 5)\n",
    "        x_cnn = torch.max(x_cnn, dim=2)[0]  # Global max pooling: (batch_size, 128)\n",
    "        \n",
    "        # LSTM + Attention Path\n",
    "        x_lstm, _ = self.lstm1(x)  # Output shape: (batch_size, seq_len, 128)\n",
    "        x_att, _ = self.multihead_attn(x_lstm, x_lstm, x_lstm)  # Output shape: (batch_size, seq_len, 128)\n",
    "        x_att = torch.mean(x_att, dim=1)  # Corrected mean: (batch_size, 128)\n",
    "        \n",
    "        # Combine CNN and Attention outputs\n",
    "        x_combined = torch.cat((x_cnn, x_att), dim=1)  # Shape: (batch_size, 256)\n",
    "        x_combined = self.layer_norm(x_combined)\n",
    "        \n",
    "        # Fully connected layers\n",
    "        x_combined = F.relu(self.fc1(x_combined))\n",
    "        x_combined = F.relu(self.fc2(x_combined))\n",
    "        outputs = self.fc3(x_combined)  # No softmax here if using nn.CrossEntropyLoss\n",
    "        return outputs       "
   ]
  },
  {
   "cell_type": "code",
   "execution_count": 8,
   "id": "1329cd68",
   "metadata": {},
   "outputs": [
    {
     "name": "stdout",
     "output_type": "stream",
     "text": [
      "Max token index in train_features: 3568\n",
      "Max token index in val_features: 4094\n",
      "Max token index in test_features: 3920\n"
     ]
    }
   ],
   "source": [
    "print(\"Max token index in train_features:\", train_features.max().item())\n",
    "print(\"Max token index in val_features:\", val_features.max().item())\n",
    "print(\"Max token index in test_features:\", test_features.max().item())"
   ]
  },
  {
   "cell_type": "code",
   "execution_count": 9,
   "id": "c6006abb",
   "metadata": {},
   "outputs": [
    {
     "name": "stderr",
     "output_type": "stream",
     "text": [
      "/home/duycute/.pyenv/versions/AI_ENV/lib/python3.11/site-packages/torch/optim/lr_scheduler.py:62: UserWarning: The verbose parameter is deprecated. Please use get_last_lr() to access the learning rate.\n",
      "  warnings.warn(\n"
     ]
    },
    {
     "name": "stdout",
     "output_type": "stream",
     "text": [
      "CNN_LSTM_DTHSH(\n",
      "  (embedding): Embedding(10000, 100)\n",
      "  (conv1): Conv1d(100, 128, kernel_size=(3,), stride=(1,))\n",
      "  (conv2): Conv1d(128, 128, kernel_size=(3,), stride=(1,))\n",
      "  (lstm1): LSTM(100, 384, num_layers=3, batch_first=True)\n",
      "  (multihead_attn): MultiheadAttention(\n",
      "    (out_proj): NonDynamicallyQuantizableLinear(in_features=384, out_features=384, bias=True)\n",
      "  )\n",
      "  (layer_norm): LayerNorm((512,), eps=1e-05, elementwise_affine=True)\n",
      "  (fc1): Linear(in_features=512, out_features=256, bias=True)\n",
      "  (fc2): Linear(in_features=256, out_features=128, bias=True)\n",
      "  (fc3): Linear(in_features=128, out_features=3, bias=True)\n",
      ")\n",
      "train_dataloader length: 179\n",
      "val_dataloader length: 25\n",
      "test_dataloader length: 50\n",
      "Training on device: cpu\n",
      "Training...\n"
     ]
    },
    {
     "name": "stderr",
     "output_type": "stream",
     "text": [
      "Training Epoch 1/50: 100%|██████████| 179/179 [02:44<00:00,  1.09it/s]\n"
     ]
    },
    {
     "name": "stdout",
     "output_type": "stream",
     "text": [
      "Epoch 1/50, Training Loss: 0.4578, Training Accuracy: 82.56%\n"
     ]
    },
    {
     "name": "stderr",
     "output_type": "stream",
     "text": [
      "Validating: 100%|██████████| 25/25 [00:06<00:00,  4.01it/s]\n"
     ]
    },
    {
     "name": "stdout",
     "output_type": "stream",
     "text": [
      "Epoch 1/50, Validation Loss: 0.4082, Validation Accuracy: 85.15%\n",
      "Model saved!\n"
     ]
    },
    {
     "name": "stderr",
     "output_type": "stream",
     "text": [
      "Training Epoch 2/50: 100%|██████████| 179/179 [02:52<00:00,  1.04it/s]\n"
     ]
    },
    {
     "name": "stdout",
     "output_type": "stream",
     "text": [
      "Epoch 2/50, Training Loss: 0.3731, Training Accuracy: 85.75%\n"
     ]
    },
    {
     "name": "stderr",
     "output_type": "stream",
     "text": [
      "Validating: 100%|██████████| 25/25 [00:06<00:00,  4.09it/s]\n"
     ]
    },
    {
     "name": "stdout",
     "output_type": "stream",
     "text": [
      "Epoch 2/50, Validation Loss: 0.3822, Validation Accuracy: 85.53%\n",
      "Model saved!\n"
     ]
    },
    {
     "name": "stderr",
     "output_type": "stream",
     "text": [
      "Training Epoch 3/50:   5%|▌         | 9/179 [00:08<02:46,  1.02it/s]\n"
     ]
    },
    {
     "ename": "KeyboardInterrupt",
     "evalue": "",
     "output_type": "error",
     "traceback": [
      "\u001b[31m---------------------------------------------------------------------------\u001b[39m",
      "\u001b[31mKeyboardInterrupt\u001b[39m                         Traceback (most recent call last)",
      "\u001b[36mCell\u001b[39m\u001b[36m \u001b[39m\u001b[32mIn[9]\u001b[39m\u001b[32m, line 48\u001b[39m\n\u001b[32m     45\u001b[39m inputs, labels = inputs.to(device), labels.to(device)\n\u001b[32m     47\u001b[39m optimizer.zero_grad()\n\u001b[32m---> \u001b[39m\u001b[32m48\u001b[39m outputs = \u001b[43mmodel\u001b[49m\u001b[43m(\u001b[49m\u001b[43minputs\u001b[49m\u001b[43m)\u001b[49m\n\u001b[32m     49\u001b[39m loss = criterion(outputs, labels)\n\u001b[32m     50\u001b[39m loss.backward()\n",
      "\u001b[36mFile \u001b[39m\u001b[32m~/.pyenv/versions/AI_ENV/lib/python3.11/site-packages/torch/nn/modules/module.py:1739\u001b[39m, in \u001b[36mModule._wrapped_call_impl\u001b[39m\u001b[34m(self, *args, **kwargs)\u001b[39m\n\u001b[32m   1737\u001b[39m     \u001b[38;5;28;01mreturn\u001b[39;00m \u001b[38;5;28mself\u001b[39m._compiled_call_impl(*args, **kwargs)  \u001b[38;5;66;03m# type: ignore[misc]\u001b[39;00m\n\u001b[32m   1738\u001b[39m \u001b[38;5;28;01melse\u001b[39;00m:\n\u001b[32m-> \u001b[39m\u001b[32m1739\u001b[39m     \u001b[38;5;28;01mreturn\u001b[39;00m \u001b[38;5;28;43mself\u001b[39;49m\u001b[43m.\u001b[49m\u001b[43m_call_impl\u001b[49m\u001b[43m(\u001b[49m\u001b[43m*\u001b[49m\u001b[43margs\u001b[49m\u001b[43m,\u001b[49m\u001b[43m \u001b[49m\u001b[43m*\u001b[49m\u001b[43m*\u001b[49m\u001b[43mkwargs\u001b[49m\u001b[43m)\u001b[49m\n",
      "\u001b[36mFile \u001b[39m\u001b[32m~/.pyenv/versions/AI_ENV/lib/python3.11/site-packages/torch/nn/modules/module.py:1750\u001b[39m, in \u001b[36mModule._call_impl\u001b[39m\u001b[34m(self, *args, **kwargs)\u001b[39m\n\u001b[32m   1745\u001b[39m \u001b[38;5;66;03m# If we don't have any hooks, we want to skip the rest of the logic in\u001b[39;00m\n\u001b[32m   1746\u001b[39m \u001b[38;5;66;03m# this function, and just call forward.\u001b[39;00m\n\u001b[32m   1747\u001b[39m \u001b[38;5;28;01mif\u001b[39;00m \u001b[38;5;129;01mnot\u001b[39;00m (\u001b[38;5;28mself\u001b[39m._backward_hooks \u001b[38;5;129;01mor\u001b[39;00m \u001b[38;5;28mself\u001b[39m._backward_pre_hooks \u001b[38;5;129;01mor\u001b[39;00m \u001b[38;5;28mself\u001b[39m._forward_hooks \u001b[38;5;129;01mor\u001b[39;00m \u001b[38;5;28mself\u001b[39m._forward_pre_hooks\n\u001b[32m   1748\u001b[39m         \u001b[38;5;129;01mor\u001b[39;00m _global_backward_pre_hooks \u001b[38;5;129;01mor\u001b[39;00m _global_backward_hooks\n\u001b[32m   1749\u001b[39m         \u001b[38;5;129;01mor\u001b[39;00m _global_forward_hooks \u001b[38;5;129;01mor\u001b[39;00m _global_forward_pre_hooks):\n\u001b[32m-> \u001b[39m\u001b[32m1750\u001b[39m     \u001b[38;5;28;01mreturn\u001b[39;00m \u001b[43mforward_call\u001b[49m\u001b[43m(\u001b[49m\u001b[43m*\u001b[49m\u001b[43margs\u001b[49m\u001b[43m,\u001b[49m\u001b[43m \u001b[49m\u001b[43m*\u001b[49m\u001b[43m*\u001b[49m\u001b[43mkwargs\u001b[49m\u001b[43m)\u001b[49m\n\u001b[32m   1752\u001b[39m result = \u001b[38;5;28;01mNone\u001b[39;00m\n\u001b[32m   1753\u001b[39m called_always_called_hooks = \u001b[38;5;28mset\u001b[39m()\n",
      "\u001b[36mCell\u001b[39m\u001b[36m \u001b[39m\u001b[32mIn[7]\u001b[39m\u001b[32m, line 35\u001b[39m, in \u001b[36mCNN_LSTM_DTHSH.forward\u001b[39m\u001b[34m(self, x)\u001b[39m\n\u001b[32m     32\u001b[39m x_cnn = torch.max(x_cnn, dim=\u001b[32m2\u001b[39m)[\u001b[32m0\u001b[39m]  \u001b[38;5;66;03m# Global max pooling: (batch_size, 128)\u001b[39;00m\n\u001b[32m     34\u001b[39m \u001b[38;5;66;03m# LSTM + Attention Path\u001b[39;00m\n\u001b[32m---> \u001b[39m\u001b[32m35\u001b[39m x_lstm, _ = \u001b[38;5;28;43mself\u001b[39;49m\u001b[43m.\u001b[49m\u001b[43mlstm1\u001b[49m\u001b[43m(\u001b[49m\u001b[43mx\u001b[49m\u001b[43m)\u001b[49m  \u001b[38;5;66;03m# Output shape: (batch_size, seq_len, 128)\u001b[39;00m\n\u001b[32m     36\u001b[39m x_att, _ = \u001b[38;5;28mself\u001b[39m.multihead_attn(x_lstm, x_lstm, x_lstm)  \u001b[38;5;66;03m# Output shape: (batch_size, seq_len, 128)\u001b[39;00m\n\u001b[32m     37\u001b[39m x_att = torch.mean(x_att, dim=\u001b[32m1\u001b[39m)  \u001b[38;5;66;03m# Corrected mean: (batch_size, 128)\u001b[39;00m\n",
      "\u001b[36mFile \u001b[39m\u001b[32m~/.pyenv/versions/AI_ENV/lib/python3.11/site-packages/torch/nn/modules/module.py:1739\u001b[39m, in \u001b[36mModule._wrapped_call_impl\u001b[39m\u001b[34m(self, *args, **kwargs)\u001b[39m\n\u001b[32m   1737\u001b[39m     \u001b[38;5;28;01mreturn\u001b[39;00m \u001b[38;5;28mself\u001b[39m._compiled_call_impl(*args, **kwargs)  \u001b[38;5;66;03m# type: ignore[misc]\u001b[39;00m\n\u001b[32m   1738\u001b[39m \u001b[38;5;28;01melse\u001b[39;00m:\n\u001b[32m-> \u001b[39m\u001b[32m1739\u001b[39m     \u001b[38;5;28;01mreturn\u001b[39;00m \u001b[38;5;28;43mself\u001b[39;49m\u001b[43m.\u001b[49m\u001b[43m_call_impl\u001b[49m\u001b[43m(\u001b[49m\u001b[43m*\u001b[49m\u001b[43margs\u001b[49m\u001b[43m,\u001b[49m\u001b[43m \u001b[49m\u001b[43m*\u001b[49m\u001b[43m*\u001b[49m\u001b[43mkwargs\u001b[49m\u001b[43m)\u001b[49m\n",
      "\u001b[36mFile \u001b[39m\u001b[32m~/.pyenv/versions/AI_ENV/lib/python3.11/site-packages/torch/nn/modules/module.py:1750\u001b[39m, in \u001b[36mModule._call_impl\u001b[39m\u001b[34m(self, *args, **kwargs)\u001b[39m\n\u001b[32m   1745\u001b[39m \u001b[38;5;66;03m# If we don't have any hooks, we want to skip the rest of the logic in\u001b[39;00m\n\u001b[32m   1746\u001b[39m \u001b[38;5;66;03m# this function, and just call forward.\u001b[39;00m\n\u001b[32m   1747\u001b[39m \u001b[38;5;28;01mif\u001b[39;00m \u001b[38;5;129;01mnot\u001b[39;00m (\u001b[38;5;28mself\u001b[39m._backward_hooks \u001b[38;5;129;01mor\u001b[39;00m \u001b[38;5;28mself\u001b[39m._backward_pre_hooks \u001b[38;5;129;01mor\u001b[39;00m \u001b[38;5;28mself\u001b[39m._forward_hooks \u001b[38;5;129;01mor\u001b[39;00m \u001b[38;5;28mself\u001b[39m._forward_pre_hooks\n\u001b[32m   1748\u001b[39m         \u001b[38;5;129;01mor\u001b[39;00m _global_backward_pre_hooks \u001b[38;5;129;01mor\u001b[39;00m _global_backward_hooks\n\u001b[32m   1749\u001b[39m         \u001b[38;5;129;01mor\u001b[39;00m _global_forward_hooks \u001b[38;5;129;01mor\u001b[39;00m _global_forward_pre_hooks):\n\u001b[32m-> \u001b[39m\u001b[32m1750\u001b[39m     \u001b[38;5;28;01mreturn\u001b[39;00m \u001b[43mforward_call\u001b[49m\u001b[43m(\u001b[49m\u001b[43m*\u001b[49m\u001b[43margs\u001b[49m\u001b[43m,\u001b[49m\u001b[43m \u001b[49m\u001b[43m*\u001b[49m\u001b[43m*\u001b[49m\u001b[43mkwargs\u001b[49m\u001b[43m)\u001b[49m\n\u001b[32m   1752\u001b[39m result = \u001b[38;5;28;01mNone\u001b[39;00m\n\u001b[32m   1753\u001b[39m called_always_called_hooks = \u001b[38;5;28mset\u001b[39m()\n",
      "\u001b[36mFile \u001b[39m\u001b[32m~/.pyenv/versions/AI_ENV/lib/python3.11/site-packages/torch/nn/modules/rnn.py:1124\u001b[39m, in \u001b[36mLSTM.forward\u001b[39m\u001b[34m(self, input, hx)\u001b[39m\n\u001b[32m   1121\u001b[39m         hx = \u001b[38;5;28mself\u001b[39m.permute_hidden(hx, sorted_indices)\n\u001b[32m   1123\u001b[39m \u001b[38;5;28;01mif\u001b[39;00m batch_sizes \u001b[38;5;129;01mis\u001b[39;00m \u001b[38;5;28;01mNone\u001b[39;00m:\n\u001b[32m-> \u001b[39m\u001b[32m1124\u001b[39m     result = \u001b[43m_VF\u001b[49m\u001b[43m.\u001b[49m\u001b[43mlstm\u001b[49m\u001b[43m(\u001b[49m\n\u001b[32m   1125\u001b[39m \u001b[43m        \u001b[49m\u001b[38;5;28;43minput\u001b[39;49m\u001b[43m,\u001b[49m\n\u001b[32m   1126\u001b[39m \u001b[43m        \u001b[49m\u001b[43mhx\u001b[49m\u001b[43m,\u001b[49m\n\u001b[32m   1127\u001b[39m \u001b[43m        \u001b[49m\u001b[38;5;28;43mself\u001b[39;49m\u001b[43m.\u001b[49m\u001b[43m_flat_weights\u001b[49m\u001b[43m,\u001b[49m\u001b[43m  \u001b[49m\u001b[38;5;66;43;03m# type: ignore[arg-type]\u001b[39;49;00m\n\u001b[32m   1128\u001b[39m \u001b[43m        \u001b[49m\u001b[38;5;28;43mself\u001b[39;49m\u001b[43m.\u001b[49m\u001b[43mbias\u001b[49m\u001b[43m,\u001b[49m\n\u001b[32m   1129\u001b[39m \u001b[43m        \u001b[49m\u001b[38;5;28;43mself\u001b[39;49m\u001b[43m.\u001b[49m\u001b[43mnum_layers\u001b[49m\u001b[43m,\u001b[49m\n\u001b[32m   1130\u001b[39m \u001b[43m        \u001b[49m\u001b[38;5;28;43mself\u001b[39;49m\u001b[43m.\u001b[49m\u001b[43mdropout\u001b[49m\u001b[43m,\u001b[49m\n\u001b[32m   1131\u001b[39m \u001b[43m        \u001b[49m\u001b[38;5;28;43mself\u001b[39;49m\u001b[43m.\u001b[49m\u001b[43mtraining\u001b[49m\u001b[43m,\u001b[49m\n\u001b[32m   1132\u001b[39m \u001b[43m        \u001b[49m\u001b[38;5;28;43mself\u001b[39;49m\u001b[43m.\u001b[49m\u001b[43mbidirectional\u001b[49m\u001b[43m,\u001b[49m\n\u001b[32m   1133\u001b[39m \u001b[43m        \u001b[49m\u001b[38;5;28;43mself\u001b[39;49m\u001b[43m.\u001b[49m\u001b[43mbatch_first\u001b[49m\u001b[43m,\u001b[49m\n\u001b[32m   1134\u001b[39m \u001b[43m    \u001b[49m\u001b[43m)\u001b[49m\n\u001b[32m   1135\u001b[39m \u001b[38;5;28;01melse\u001b[39;00m:\n\u001b[32m   1136\u001b[39m     result = _VF.lstm(\n\u001b[32m   1137\u001b[39m         \u001b[38;5;28minput\u001b[39m,\n\u001b[32m   1138\u001b[39m         batch_sizes,\n\u001b[32m   (...)\u001b[39m\u001b[32m   1145\u001b[39m         \u001b[38;5;28mself\u001b[39m.bidirectional,\n\u001b[32m   1146\u001b[39m     )\n",
      "\u001b[31mKeyboardInterrupt\u001b[39m: "
     ]
    }
   ],
   "source": [
    "from sklearn.metrics import confusion_matrix, classification_report, accuracy_score\n",
    "\n",
    "torch.manual_seed(42)\n",
    "device = torch.device(\"cuda\" if torch.cuda.is_available() else \"cpu\")\n",
    "embedding_dim = 100\n",
    "embedding_matrix = embedding_matrix.to(device)\n",
    "num_labels = 3\n",
    "model = CNN_LSTM_DTHSH(embedding_dim, embedding_matrix, num_labels).to(device)\n",
    "print(model)\n",
    "\n",
    "epochs = 50\n",
    "batch_size = 64\n",
    "early_stopping_patience = 5\n",
    "early_stopping_counter = 0\n",
    "best_val_loss = float('inf')\n",
    "\n",
    "train_dataset = TensorDataset(train_features, y_train)\n",
    "train_dataloader = DataLoader(train_dataset, batch_size=batch_size, shuffle=True)\n",
    "val_dataset = TensorDataset(val_features, y_val)\n",
    "val_dataloader = DataLoader(val_dataset, batch_size=batch_size, shuffle=False)\n",
    "test_dataset = TensorDataset(test_features, y_test)\n",
    "test_dataloader = DataLoader(test_dataset, batch_size=batch_size, shuffle=False)\n",
    "\n",
    "optimizer = torch.optim.AdamW(model.parameters(), lr=1e-3)\n",
    "scheduler = ReduceLROnPlateau(optimizer, mode='min', factor=0.5, patience=5, verbose=True)\n",
    "criterion = nn.CrossEntropyLoss()\n",
    "\n",
    "print(\"train_dataloader length:\", len(train_dataloader))\n",
    "print(\"val_dataloader length:\", len(val_dataloader))\n",
    "print(\"test_dataloader length:\", len(test_dataloader))\n",
    "\n",
    "print(\"Training on device:\", device)\n",
    "\n",
    "print(\"Training...\")\n",
    "\n",
    "# Training loop with accuracy calculation\n",
    "for epoch in range(epochs):\n",
    "    model.train()\n",
    "    train_loss = 0.0\n",
    "    train_correct = 0\n",
    "    train_total = 0\n",
    "    \n",
    "    for batch in tqdm(train_dataloader, desc=f\"Training Epoch {epoch+1}/{epochs}\"):\n",
    "        inputs, labels = batch\n",
    "        inputs, labels = inputs.to(device), labels.to(device)\n",
    "        \n",
    "        optimizer.zero_grad()\n",
    "        outputs = model(inputs)\n",
    "        loss = criterion(outputs, labels)\n",
    "        loss.backward()\n",
    "        optimizer.step()\n",
    "        \n",
    "        train_loss += loss.item()\n",
    "        _, predicted = torch.max(outputs.data, 1)\n",
    "        train_total += labels.size(0)\n",
    "        train_correct += (predicted == labels).sum().item()\n",
    "\n",
    "    train_loss /= len(train_dataloader)\n",
    "    train_accuracy = 100. * train_correct / train_total\n",
    "    print(f\"Epoch {epoch+1}/{epochs}, Training Loss: {train_loss:.4f}, Training Accuracy: {train_accuracy:.2f}%\")\n",
    "\n",
    "    # Validation\n",
    "    model.eval()\n",
    "    val_loss = 0.0\n",
    "    val_preds = []\n",
    "    val_labels = []\n",
    "    \n",
    "    with torch.no_grad():\n",
    "        for batch in tqdm(val_dataloader, desc=\"Validating\"):\n",
    "            inputs, labels = batch\n",
    "            inputs, labels = inputs.to(device), labels.to(device)\n",
    "            \n",
    "            outputs = model(inputs)\n",
    "            loss = criterion(outputs, labels)\n",
    "            val_loss += loss.item()\n",
    "            \n",
    "            _, predicted = torch.max(outputs.data, 1)\n",
    "            val_preds.extend(predicted.cpu().numpy())\n",
    "            val_labels.extend(labels.cpu().numpy())\n",
    "\n",
    "    val_loss /= len(val_dataloader)\n",
    "    val_accuracy = accuracy_score(val_labels, val_preds) * 100\n",
    "    print(f\"Epoch {epoch+1}/{epochs}, Validation Loss: {val_loss:.4f}, Validation Accuracy: {val_accuracy:.2f}%\")\n",
    "\n",
    "    if val_loss < best_val_loss:\n",
    "        best_val_loss = val_loss\n",
    "        early_stopping_counter = 0\n",
    "        torch.save(model.state_dict(), \"best_model.pth\")\n",
    "        print(\"Model saved!\")\n",
    "    else:\n",
    "        early_stopping_counter += 1\n",
    "        if early_stopping_counter >= early_stopping_patience:\n",
    "            print(\"Early stopping triggered.\")\n",
    "            break\n",
    "\n",
    "print(\"Evaluating on test set...\")\n",
    "model.load_state_dict(torch.load(\"best_model.pth\"))\n",
    "model.eval()\n",
    "\n",
    "test_preds = []\n",
    "test_labels = []\n",
    "\n",
    "with torch.no_grad():\n",
    "    for batch in tqdm(test_dataloader, desc=\"Testing\"):\n",
    "        inputs, labels = batch\n",
    "        inputs, labels = inputs.to(device), labels.to(device)\n",
    "        \n",
    "        outputs = model(inputs)\n",
    "        _, predicted = torch.max(outputs.data, 1)\n",
    "        test_preds.extend(predicted.cpu().numpy())\n",
    "        test_labels.extend(labels.cpu().numpy())\n",
    "\n",
    "# Print test metrics\n",
    "print(\"\\nTest Set Results:\")\n",
    "print(\"Confusion Matrix:\")\n",
    "print(confusion_matrix(test_labels, test_preds))\n",
    "print(\"\\nClassification Report:\")\n",
    "print(classification_report(test_labels, test_preds, \n",
    "                            target_names=[f\"Class {i}\" for i in range(num_labels)]))\n"
   ]
  }
 ],
 "metadata": {
  "kernelspec": {
   "display_name": "AI_ENV",
   "language": "python",
   "name": "python3"
  },
  "language_info": {
   "codemirror_mode": {
    "name": "ipython",
    "version": 3
   },
   "file_extension": ".py",
   "mimetype": "text/x-python",
   "name": "python",
   "nbconvert_exporter": "python",
   "pygments_lexer": "ipython3",
   "version": "3.11.11"
  }
 },
 "nbformat": 4,
 "nbformat_minor": 5
}
