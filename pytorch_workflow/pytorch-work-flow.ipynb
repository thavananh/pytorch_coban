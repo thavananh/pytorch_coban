{
 "cells": [
  {
   "cell_type": "code",
   "execution_count": 45,
   "metadata": {
    "execution": {
     "iopub.execute_input": "2025-03-21T16:01:24.086525Z",
     "iopub.status.busy": "2025-03-21T16:01:24.086283Z",
     "iopub.status.idle": "2025-03-21T16:01:24.106598Z",
     "shell.execute_reply": "2025-03-21T16:01:24.105776Z",
     "shell.execute_reply.started": "2025-03-21T16:01:24.086503Z"
    },
    "trusted": true
   },
   "outputs": [
    {
     "data": {
      "text/plain": [
       "'2.6.0+cu124'"
      ]
     },
     "execution_count": 45,
     "metadata": {},
     "output_type": "execute_result"
    }
   ],
   "source": [
    "import torch\n",
    "from torch import nn\n",
    "from tqdm import tqdm\n",
    "import matplotlib.pyplot as plt\n",
    "torch.__version__"
   ]
  },
  {
   "cell_type": "code",
   "execution_count": 46,
   "metadata": {
    "execution": {
     "iopub.execute_input": "2025-03-21T16:01:24.107928Z",
     "iopub.status.busy": "2025-03-21T16:01:24.107605Z",
     "iopub.status.idle": "2025-03-21T16:01:24.127210Z",
     "shell.execute_reply": "2025-03-21T16:01:24.126534Z",
     "shell.execute_reply.started": "2025-03-21T16:01:24.107894Z"
    },
    "trusted": true
   },
   "outputs": [
    {
     "name": "stdout",
     "output_type": "stream",
     "text": [
      "torch.Size([50, 1])\n"
     ]
    },
    {
     "data": {
      "text/plain": [
       "(tensor([[0.0000],\n",
       "         [0.0200],\n",
       "         [0.0400],\n",
       "         [0.0600],\n",
       "         [0.0800],\n",
       "         [0.1000],\n",
       "         [0.1200],\n",
       "         [0.1400],\n",
       "         [0.1600],\n",
       "         [0.1800]]),\n",
       " tensor([[0.3000],\n",
       "         [0.3140],\n",
       "         [0.3280],\n",
       "         [0.3420],\n",
       "         [0.3560],\n",
       "         [0.3700],\n",
       "         [0.3840],\n",
       "         [0.3980],\n",
       "         [0.4120],\n",
       "         [0.4260]]),\n",
       " 50,\n",
       " 50)"
      ]
     },
     "execution_count": 46,
     "metadata": {},
     "output_type": "execute_result"
    }
   ],
   "source": [
    "# Create *known* parameters\n",
    "weight = 0.7\n",
    "bias = 0.3\n",
    "\n",
    "start = 0\n",
    "end = 1\n",
    "step = 0.02\n",
    "X = torch.arange(start, end, step).unsqueeze(dim=1)\n",
    "print(X.shape)\n",
    "y = weight * X + bias\n",
    "\n",
    "X[:10], y[:10], len(X), len(y)"
   ]
  },
  {
   "cell_type": "code",
   "execution_count": 47,
   "metadata": {
    "execution": {
     "iopub.execute_input": "2025-03-21T16:01:24.128855Z",
     "iopub.status.busy": "2025-03-21T16:01:24.128568Z",
     "iopub.status.idle": "2025-03-21T16:01:24.141160Z",
     "shell.execute_reply": "2025-03-21T16:01:24.140458Z",
     "shell.execute_reply.started": "2025-03-21T16:01:24.128829Z"
    },
    "trusted": true
   },
   "outputs": [],
   "source": [
    "train_split = int(0.8 * len(X))\n",
    "X_train, y_train = X[:train_split], y[:train_split]\n",
    "X_test, y_test = X[train_split:], y[train_split:]"
   ]
  },
  {
   "cell_type": "code",
   "execution_count": 48,
   "metadata": {
    "execution": {
     "iopub.execute_input": "2025-03-21T16:01:24.142289Z",
     "iopub.status.busy": "2025-03-21T16:01:24.142064Z",
     "iopub.status.idle": "2025-03-21T16:01:24.157735Z",
     "shell.execute_reply": "2025-03-21T16:01:24.157028Z",
     "shell.execute_reply.started": "2025-03-21T16:01:24.142270Z"
    },
    "trusted": true
   },
   "outputs": [
    {
     "data": {
      "text/plain": [
       "(40, 40, 10, 10)"
      ]
     },
     "execution_count": 48,
     "metadata": {},
     "output_type": "execute_result"
    }
   ],
   "source": [
    "len(X_train), len(y_train), len(X_test), len(y_test)"
   ]
  },
  {
   "cell_type": "code",
   "execution_count": 49,
   "metadata": {
    "execution": {
     "iopub.execute_input": "2025-03-21T16:01:24.158641Z",
     "iopub.status.busy": "2025-03-21T16:01:24.158454Z",
     "iopub.status.idle": "2025-03-21T16:01:24.172262Z",
     "shell.execute_reply": "2025-03-21T16:01:24.171404Z",
     "shell.execute_reply.started": "2025-03-21T16:01:24.158624Z"
    },
    "trusted": true
   },
   "outputs": [],
   "source": [
    "def plot_predictions(train_data=X_train,\n",
    "                    train_labels=y_train,\n",
    "                    test_data=X_test,\n",
    "                    test_labels=y_test,\n",
    "                    prediction=None):\n",
    "    plt.figure(figsize=(10, 7))\n",
    "    plt.scatter(train_data, train_labels, c=\"blue\", s=4, label=\"Training data\")\n",
    "    plt.scatter(test_data, test_labels, c=\"green\", s=4, label=\"Testing data\")\n",
    "    if prediction is not None:\n",
    "        plt.scatter(test_data, prediction, c=\"red\", s=4, label=\"Predictions\")\n",
    "    plt.legend(prop={\"size\":14})"
   ]
  },
  {
   "cell_type": "code",
   "execution_count": 50,
   "metadata": {
    "execution": {
     "iopub.execute_input": "2025-03-21T16:01:24.173326Z",
     "iopub.status.busy": "2025-03-21T16:01:24.173075Z",
     "iopub.status.idle": "2025-03-21T16:01:24.412287Z",
     "shell.execute_reply": "2025-03-21T16:01:24.411378Z",
     "shell.execute_reply.started": "2025-03-21T16:01:24.173306Z"
    },
    "trusted": true
   },
   "outputs": [
    {
     "data": {
      "image/png": "[encoded data removed]",
      "text/plain": [
       "<Figure size 1000x700 with 1 Axes>"
      ]
     },
     "metadata": {},
     "output_type": "display_data"
    }
   ],
   "source": [
    "plot_predictions(X_train, y_train, X_test, y_test)"
   ]
  },
  {
   "cell_type": "code",
   "execution_count": 51,
   "metadata": {
    "execution": {
     "iopub.execute_input": "2025-03-21T16:01:24.413555Z",
     "iopub.status.busy": "2025-03-21T16:01:24.413241Z",
     "iopub.status.idle": "2025-03-21T16:01:24.418288Z",
     "shell.execute_reply": "2025-03-21T16:01:24.417549Z",
     "shell.execute_reply.started": "2025-03-21T16:01:24.413523Z"
    },
    "trusted": true
   },
   "outputs": [],
   "source": [
    "class LinearRegressionModel(torch.nn.Module):\n",
    "    def __init__(self):\n",
    "        super().__init__()\n",
    "        self.weights = nn.Parameter(torch.randn(1, dtype=torch.float), requires_grad=True)\n",
    "        self.bias  = nn.Parameter(torch.randn(1, dtype=torch.float), requires_grad=True)\n",
    "    def forward(self, x:torch.Tensor)->torch.Tensor:\n",
    "        return self.weights * x + self.bias"
   ]
  },
  {
   "cell_type": "code",
   "execution_count": 52,
   "metadata": {
    "execution": {
     "iopub.execute_input": "2025-03-21T16:01:24.420849Z",
     "iopub.status.busy": "2025-03-21T16:01:24.420648Z",
     "iopub.status.idle": "2025-03-21T16:01:24.441160Z",
     "shell.execute_reply": "2025-03-21T16:01:24.440343Z",
     "shell.execute_reply.started": "2025-03-21T16:01:24.420829Z"
    },
    "trusted": true
   },
   "outputs": [
    {
     "name": "stdout",
     "output_type": "stream",
     "text": [
      "[Parameter containing:\n",
      "tensor([0.3367], requires_grad=True), Parameter containing:\n",
      "tensor([0.1288], requires_grad=True)]\n"
     ]
    },
    {
     "data": {
      "text/plain": [
       "OrderedDict([('weights', tensor([0.3367])), ('bias', tensor([0.1288]))])"
      ]
     },
     "execution_count": 52,
     "metadata": {},
     "output_type": "execute_result"
    }
   ],
   "source": [
    "torch.manual_seed(42)\n",
    "model_0 = LinearRegressionModel()\n",
    "print(list(model_0.parameters()))\n",
    "model_0.state_dict()"
   ]
  },
  {
   "cell_type": "code",
   "execution_count": 53,
   "metadata": {
    "execution": {
     "iopub.execute_input": "2025-03-21T16:01:24.442730Z",
     "iopub.status.busy": "2025-03-21T16:01:24.442441Z",
     "iopub.status.idle": "2025-03-21T16:01:24.455242Z",
     "shell.execute_reply": "2025-03-21T16:01:24.454515Z",
     "shell.execute_reply.started": "2025-03-21T16:01:24.442698Z"
    },
    "trusted": true
   },
   "outputs": [
    {
     "name": "stdout",
     "output_type": "stream",
     "text": [
      "Number of testing samples: 10\n",
      "Number of predictions made: 10\n",
      "Predicted value:\n",
      "tensor([[0.3982],\n",
      "        [0.4049],\n",
      "        [0.4116],\n",
      "        [0.4184],\n",
      "        [0.4251],\n",
      "        [0.4318],\n",
      "        [0.4386],\n",
      "        [0.4453],\n",
      "        [0.4520],\n",
      "        [0.4588]])\n"
     ]
    }
   ],
   "source": [
    "with torch.inference_mode():\n",
    "    y_preds = model_0(X_test)\n",
    "\n",
    "print(f'Number of testing samples: {len(X_test)}')\n",
    "print(f'Number of predictions made: {len(y_preds)}')\n",
    "print(f'Predicted value:\\n{y_preds}')"
   ]
  },
  {
   "cell_type": "code",
   "execution_count": 54,
   "metadata": {
    "execution": {
     "iopub.execute_input": "2025-03-21T16:01:24.456262Z",
     "iopub.status.busy": "2025-03-21T16:01:24.456024Z",
     "iopub.status.idle": "2025-03-21T16:01:24.736721Z",
     "shell.execute_reply": "2025-03-21T16:01:24.735684Z",
     "shell.execute_reply.started": "2025-03-21T16:01:24.456243Z"
    },
    "trusted": true
   },
   "outputs": [
    {
     "data": {
      "image/png": "[encoded data removed]",
      "text/plain": [
       "<Figure size 1000x700 with 1 Axes>"
      ]
     },
     "metadata": {},
     "output_type": "display_data"
    }
   ],
   "source": [
    "plot_predictions(X_train, y_train, X_test, y_test, y_preds)"
   ]
  },
  {
   "cell_type": "code",
   "execution_count": 55,
   "metadata": {
    "execution": {
     "iopub.execute_input": "2025-03-21T16:01:24.737974Z",
     "iopub.status.busy": "2025-03-21T16:01:24.737729Z",
     "iopub.status.idle": "2025-03-21T16:01:24.742383Z",
     "shell.execute_reply": "2025-03-21T16:01:24.741442Z",
     "shell.execute_reply.started": "2025-03-21T16:01:24.737952Z"
    },
    "trusted": true
   },
   "outputs": [],
   "source": [
    "loss_fn = nn.L1Loss()\n",
    "optimizer = torch.optim.Adam(params=model_0.parameters(), lr=0.01)"
   ]
  },
  {
   "cell_type": "code",
   "execution_count": 56,
   "metadata": {
    "execution": {
     "iopub.execute_input": "2025-03-21T16:01:24.743528Z",
     "iopub.status.busy": "2025-03-21T16:01:24.743207Z",
     "iopub.status.idle": "2025-03-21T16:01:24.760743Z",
     "shell.execute_reply": "2025-03-21T16:01:24.760053Z",
     "shell.execute_reply.started": "2025-03-21T16:01:24.743494Z"
    },
    "trusted": true
   },
   "outputs": [
    {
     "name": "stdout",
     "output_type": "stream",
     "text": [
      "[{'params': [Parameter containing:\n",
      "tensor([0.3367], requires_grad=True), Parameter containing:\n",
      "tensor([0.1288], requires_grad=True)], 'lr': 0.01, 'betas': (0.9, 0.999), 'eps': 1e-08, 'weight_decay': 0, 'amsgrad': False, 'maximize': False, 'foreach': None, 'capturable': False, 'differentiable': False, 'fused': None}]\n"
     ]
    }
   ],
   "source": [
    "print(optimizer.param_groups)\n"
   ]
  },
  {
   "cell_type": "code",
   "execution_count": 57,
   "metadata": {
    "execution": {
     "iopub.execute_input": "2025-03-21T16:01:24.761685Z",
     "iopub.status.busy": "2025-03-21T16:01:24.761467Z",
     "iopub.status.idle": "2025-03-21T16:01:24.779331Z",
     "shell.execute_reply": "2025-03-21T16:01:24.778512Z",
     "shell.execute_reply.started": "2025-03-21T16:01:24.761654Z"
    },
    "trusted": true
   },
   "outputs": [
    {
     "name": "stdout",
     "output_type": "stream",
     "text": [
      "tensor([[0.0000],\n",
      "        [0.0200],\n",
      "        [0.0400],\n",
      "        [0.0600],\n",
      "        [0.0800],\n",
      "        [0.1000],\n",
      "        [0.1200],\n",
      "        [0.1400],\n",
      "        [0.1600],\n",
      "        [0.1800],\n",
      "        [0.2000],\n",
      "        [0.2200],\n",
      "        [0.2400],\n",
      "        [0.2600],\n",
      "        [0.2800],\n",
      "        [0.3000],\n",
      "        [0.3200],\n",
      "        [0.3400],\n",
      "        [0.3600],\n",
      "        [0.3800],\n",
      "        [0.4000],\n",
      "        [0.4200],\n",
      "        [0.4400],\n",
      "        [0.4600],\n",
      "        [0.4800],\n",
      "        [0.5000],\n",
      "        [0.5200],\n",
      "        [0.5400],\n",
      "        [0.5600],\n",
      "        [0.5800],\n",
      "        [0.6000],\n",
      "        [0.6200],\n",
      "        [0.6400],\n",
      "        [0.6600],\n",
      "        [0.6800],\n",
      "        [0.7000],\n",
      "        [0.7200],\n",
      "        [0.7400],\n",
      "        [0.7600],\n",
      "        [0.7800]])\n",
      "tensor([[0.3000],\n",
      "        [0.3140],\n",
      "        [0.3280],\n",
      "        [0.3420],\n",
      "        [0.3560],\n",
      "        [0.3700],\n",
      "        [0.3840],\n",
      "        [0.3980],\n",
      "        [0.4120],\n",
      "        [0.4260],\n",
      "        [0.4400],\n",
      "        [0.4540],\n",
      "        [0.4680],\n",
      "        [0.4820],\n",
      "        [0.4960],\n",
      "        [0.5100],\n",
      "        [0.5240],\n",
      "        [0.5380],\n",
      "        [0.5520],\n",
      "        [0.5660],\n",
      "        [0.5800],\n",
      "        [0.5940],\n",
      "        [0.6080],\n",
      "        [0.6220],\n",
      "        [0.6360],\n",
      "        [0.6500],\n",
      "        [0.6640],\n",
      "        [0.6780],\n",
      "        [0.6920],\n",
      "        [0.7060],\n",
      "        [0.7200],\n",
      "        [0.7340],\n",
      "        [0.7480],\n",
      "        [0.7620],\n",
      "        [0.7760],\n",
      "        [0.7900],\n",
      "        [0.8040],\n",
      "        [0.8180],\n",
      "        [0.8320],\n",
      "        [0.8460]])\n"
     ]
    }
   ],
   "source": [
    "print(X_train)\n",
    "print(y_train)"
   ]
  },
  {
   "cell_type": "code",
   "execution_count": 58,
   "metadata": {
    "execution": {
     "iopub.execute_input": "2025-03-21T16:01:24.780394Z",
     "iopub.status.busy": "2025-03-21T16:01:24.780111Z",
     "iopub.status.idle": "2025-03-21T16:01:25.525618Z",
     "shell.execute_reply": "2025-03-21T16:01:25.524841Z",
     "shell.execute_reply.started": "2025-03-21T16:01:24.780373Z"
    },
    "trusted": true
   },
   "outputs": [
    {
     "name": "stderr",
     "output_type": "stream",
     "text": [
      "100%|██████████| 100/100 [00:00<00:00, 887.78it/s]"
     ]
    },
    {
     "name": "stdout",
     "output_type": "stream",
     "text": [
      "Epoch: 0 | MAE Train Loss: 0.31288138031959534 | MAE Test Loss: 0.47563618421554565 \n",
      "Epoch: 10 | MAE Train Loss: 0.17388132214546204 | MAE Test Loss: 0.2866361737251282 \n",
      "Epoch: 20 | MAE Train Loss: 0.042198795825242996 | MAE Test Loss: 0.0987466350197792 \n",
      "Epoch: 30 | MAE Train Loss: 0.044207725673913956 | MAE Test Loss: 0.005456471350044012 \n",
      "Epoch: 40 | MAE Train Loss: 0.02264046110212803 | MAE Test Loss: 0.0635034516453743 \n",
      "Epoch: 50 | MAE Train Loss: 0.017085570842027664 | MAE Test Loss: 0.04095946624875069 \n",
      "Epoch: 60 | MAE Train Loss: 0.008707192726433277 | MAE Test Loss: 0.013333350419998169 \n",
      "Epoch: 70 | MAE Train Loss: 0.0023070916067808867 | MAE Test Loss: 0.0023451626766473055 \n",
      "Epoch: 80 | MAE Train Loss: 0.002246101852506399 | MAE Test Loss: 0.0020259260199964046 \n",
      "Epoch: 90 | MAE Train Loss: 0.0018262766534462571 | MAE Test Loss: 0.0037562549114227295 \n"
     ]
    },
    {
     "name": "stderr",
     "output_type": "stream",
     "text": [
      "\n"
     ]
    }
   ],
   "source": [
    "torch.manual_seed(42)\n",
    "\n",
    "# Set the number of epochs (how many times the model will pass over the training data)\n",
    "epochs = 100\n",
    "\n",
    "# Create empty loss lists to track values\n",
    "train_loss_values = []\n",
    "test_loss_values = []\n",
    "epoch_count = []\n",
    "\n",
    "\n",
    "for epoch in tqdm(range(epochs)):\n",
    "  model_0.train()\n",
    "  y_pred = model_0(X_train)\n",
    "  loss = loss_fn(y_pred, y_train)\n",
    "  optimizer.zero_grad()\n",
    "  loss.backward()\n",
    "  optimizer.step()\n",
    "  model_0.eval()\n",
    "  with torch.inference_mode():\n",
    "    test_pred = model_0(X_test)\n",
    "    test_loss = loss_fn(test_pred, y_test.type(torch.float))\n",
    "    if epoch % 10 == 0:\n",
    "            epoch_count.append(epoch)\n",
    "            train_loss_values.append(loss.detach().numpy())\n",
    "            test_loss_values.append(test_loss.detach().numpy())\n",
    "            print(f\"Epoch: {epoch} | MAE Train Loss: {loss} | MAE Test Loss: {test_loss} \")"
   ]
  },
  {
   "cell_type": "code",
   "execution_count": 59,
   "metadata": {
    "execution": {
     "iopub.execute_input": "2025-03-21T16:01:25.526749Z",
     "iopub.status.busy": "2025-03-21T16:01:25.526422Z",
     "iopub.status.idle": "2025-03-21T16:01:25.725961Z",
     "shell.execute_reply": "2025-03-21T16:01:25.724994Z",
     "shell.execute_reply.started": "2025-03-21T16:01:25.526713Z"
    },
    "trusted": true
   },
   "outputs": [
    {
     "data": {
      "image/png": "[encoded data removed]",
      "text/plain": [
       "<Figure size 640x480 with 1 Axes>"
      ]
     },
     "metadata": {},
     "output_type": "display_data"
    }
   ],
   "source": [
    "# Plot the loss curves\n",
    "plt.plot(epoch_count, train_loss_values, label=\"Train loss\")\n",
    "plt.plot(epoch_count, test_loss_values, label=\"Test loss\")\n",
    "plt.title(\"Training and test loss curves\")\n",
    "plt.ylabel(\"Loss\")\n",
    "plt.xlabel(\"Epochs\")\n",
    "plt.legend();"
   ]
  },
  {
   "cell_type": "code",
   "execution_count": 60,
   "metadata": {
    "execution": {
     "iopub.execute_input": "2025-03-21T16:03:31.528767Z",
     "iopub.status.busy": "2025-03-21T16:03:31.528461Z",
     "iopub.status.idle": "2025-03-21T16:03:31.789575Z",
     "shell.execute_reply": "2025-03-21T16:03:31.788809Z",
     "shell.execute_reply.started": "2025-03-21T16:03:31.528743Z"
    },
    "trusted": true
   },
   "outputs": [
    {
     "name": "stdout",
     "output_type": "stream",
     "text": [
      "Number of testing samples: 10\n",
      "Number of predictions made: 10\n",
      "Predicted value:\n",
      "tensor([[0.8635],\n",
      "        [0.8776],\n",
      "        [0.8917],\n",
      "        [0.9057],\n",
      "        [0.9198],\n",
      "        [0.9339],\n",
      "        [0.9480],\n",
      "        [0.9620],\n",
      "        [0.9761],\n",
      "        [0.9902]])\n"
     ]
    },
    {
     "data": {
      "image/png": "[encoded data removed]",
      "text/plain": [
       "<Figure size 1000x700 with 1 Axes>"
      ]
     },
     "metadata": {},
     "output_type": "display_data"
    }
   ],
   "source": [
    "with torch.inference_mode():\n",
    "    y_preds = model_0(X_test)\n",
    "\n",
    "print(f'Number of testing samples: {len(X_test)}')\n",
    "print(f'Number of predictions made: {len(y_preds)}')\n",
    "print(f'Predicted value:\\n{y_preds}')\n",
    "\n",
    "plot_predictions(X_train, y_train, X_test, y_test, y_preds)"
   ]
  },
  {
   "cell_type": "markdown",
   "metadata": {},
   "source": [
    "there are three main methods to save and load models in Pytorch\n",
    "1. torch.save() - save pytorch object in python's pickle\n",
    "2. torch.load() - load a saved Pytorch object\n",
    "3. torch.nn.Module.load_state_dict() -- allow to load a model's saved state dictiona"
   ]
  },
  {
   "cell_type": "code",
   "execution_count": 61,
   "metadata": {},
   "outputs": [
    {
     "data": {
      "text/plain": [
       "OrderedDict([('weights', tensor([0.7037])), ('bias', tensor([0.3006]))])"
      ]
     },
     "execution_count": 61,
     "metadata": {},
     "output_type": "execute_result"
    }
   ],
   "source": [
    "model_0.state_dict()"
   ]
  },
  {
   "cell_type": "code",
   "execution_count": 62,
   "metadata": {},
   "outputs": [
    {
     "name": "stdout",
     "output_type": "stream",
     "text": [
      "models/01_pytorch_workflow_model_0.pth\n",
      "Saving model to: models/01_pytorch_workflow_model_0.pth\n"
     ]
    }
   ],
   "source": [
    "from pathlib import Path\n",
    "\n",
    "from matplotlib.pylab import f\n",
    "\n",
    "MODEL_PATH = Path(\"models\")\n",
    "MODEL_PATH.mkdir(parents=True, exist_ok=True)\n",
    "MODEL_NAME = \"01_pytorch_workflow_model_0.pth\"\n",
    "MODEL_SAVE_PATH = MODEL_PATH / MODEL_NAME\n",
    "print(MODEL_SAVE_PATH)\n",
    "print(f\"Saving model to: {MODEL_SAVE_PATH}\")\n",
    "torch.save(model_0.state_dict(), MODEL_SAVE_PATH)"
   ]
  },
  {
   "cell_type": "code",
   "execution_count": 63,
   "metadata": {},
   "outputs": [
    {
     "name": "stdout",
     "output_type": "stream",
     "text": [
      "Number of testing samples: 10\n",
      "Number of predictions made: 10\n",
      "Predicted value:\n",
      "tensor([[0.8635],\n",
      "        [0.8776],\n",
      "        [0.8917],\n",
      "        [0.9057],\n",
      "        [0.9198],\n",
      "        [0.9339],\n",
      "        [0.9480],\n",
      "        [0.9620],\n",
      "        [0.9761],\n",
      "        [0.9902]])\n",
      "Expected value:\n",
      "tensor([[0.8600],\n",
      "        [0.8740],\n",
      "        [0.8880],\n",
      "        [0.9020],\n",
      "        [0.9160],\n",
      "        [0.9300],\n",
      "        [0.9440],\n",
      "        [0.9580],\n",
      "        [0.9720],\n",
      "        [0.9860]])\n"
     ]
    }
   ],
   "source": [
    "model_0 = LinearRegressionModel()\n",
    "model_0.load_state_dict(torch.load(MODEL_SAVE_PATH))\n",
    "model_0.eval()\n",
    "with torch.inference_mode():\n",
    "    y_preds = model_0(X_test)\n",
    "print(f'Number of testing samples: {len(X_test)}')\n",
    "print(f'Number of predictions made: {len(y_preds)}')\n",
    "print(f'Predicted value:\\n{y_preds}')\n",
    "print(f'Expected value:\\n{y_test}')"
   ]
  },
  {
   "cell_type": "code",
   "execution_count": 64,
   "metadata": {},
   "outputs": [
    {
     "data": {
      "text/plain": [
       "'2.6.0+cu124'"
      ]
     },
     "execution_count": 64,
     "metadata": {},
     "output_type": "execute_result"
    }
   ],
   "source": [
    "import torch\n",
    "from torch import nn\n",
    "from tqdm import tqdm\n",
    "import matplotlib.pyplot as plt\n",
    "torch.__version__"
   ]
  },
  {
   "cell_type": "code",
   "execution_count": 65,
   "metadata": {},
   "outputs": [
    {
     "name": "stdout",
     "output_type": "stream",
     "text": [
      "Using device: cpu\n"
     ]
    }
   ],
   "source": [
    "device = \"cuda\" if torch.cuda.is_available() else \"cpu\"\n",
    "print(f\"Using device: {device}\")"
   ]
  },
  {
   "cell_type": "code",
   "execution_count": 66,
   "metadata": {},
   "outputs": [
    {
     "data": {
      "text/plain": [
       "(tensor([[0.0000],\n",
       "         [0.0200],\n",
       "         [0.0400],\n",
       "         [0.0600],\n",
       "         [0.0800],\n",
       "         [0.1000],\n",
       "         [0.1200],\n",
       "         [0.1400],\n",
       "         [0.1600],\n",
       "         [0.1800]]),\n",
       " tensor([[0.3000],\n",
       "         [0.3140],\n",
       "         [0.3280],\n",
       "         [0.3420],\n",
       "         [0.3560],\n",
       "         [0.3700],\n",
       "         [0.3840],\n",
       "         [0.3980],\n",
       "         [0.4120],\n",
       "         [0.4260]]),\n",
       " 50,\n",
       " 50)"
      ]
     },
     "execution_count": 66,
     "metadata": {},
     "output_type": "execute_result"
    }
   ],
   "source": [
    "weight = 0.7\n",
    "bias = 0.3\n",
    "\n",
    "start = 0 \n",
    "end = 1\n",
    "step = 0.02\n",
    "\n",
    "X = torch.arange(start, end, step).unsqueeze(dim=1)\n",
    "y = weight * X + bias\n",
    "X[:10], y[:10], len(X), len(y)"
   ]
  },
  {
   "cell_type": "code",
   "execution_count": 67,
   "metadata": {},
   "outputs": [
    {
     "data": {
      "text/plain": [
       "(40, 40, 10, 10)"
      ]
     },
     "execution_count": 67,
     "metadata": {},
     "output_type": "execute_result"
    }
   ],
   "source": [
    "train_split = int(0.8 * len(X))\n",
    "X_train, y_train = X[:train_split], y[:train_split]\n",
    "X_test, y_test = X[train_split:], y[train_split:]\n",
    "len(X_train), len(y_train), len(X_test), len(y_test)"
   ]
  },
  {
   "cell_type": "code",
   "execution_count": 68,
   "metadata": {},
   "outputs": [],
   "source": [
    "def plot_predictions(train_data, train_labels, test_data, test_labels, prediction=None):\n",
    "    plt.figure(figsize=(10, 7))\n",
    "    plt.scatter(train_data, train_labels, c=\"blue\", s=10, label=\"Training data\")\n",
    "    plt.scatter(test_data, test_labels, c=\"green\", s=10, label=\"Testing data\")\n",
    "    plt.legend(prop={\"size\":14})\n",
    "    plt.xlabel(\"Input feature\")\n",
    "    plt.ylabel(\"Target value\")\n",
    "    plt.title(\"Training and Testing Data\")\n",
    "    if prediction is not None:\n",
    "        plt.scatter(test_data, prediction, c=\"red\", s=10, label=\"Predictions\")\n",
    "        \n",
    "    plt.show()\n",
    "        "
   ]
  },
  {
   "cell_type": "code",
   "execution_count": 69,
   "metadata": {},
   "outputs": [
    {
     "data": {
      "image/png": "[encoded data removed]",
      "text/plain": [
       "<Figure size 1000x700 with 1 Axes>"
      ]
     },
     "metadata": {},
     "output_type": "display_data"
    }
   ],
   "source": [
    "plot_predictions(X_train, y_train, X_test, y_test)"
   ]
  },
  {
   "cell_type": "code",
   "execution_count": 70,
   "metadata": {},
   "outputs": [
    {
     "data": {
      "text/plain": [
       "(LinearRegressionModelV2(\n",
       "   (linear_layer): Linear(in_features=1, out_features=1, bias=True)\n",
       " ),\n",
       " OrderedDict([('linear_layer.weight', tensor([[0.7645]])),\n",
       "              ('linear_layer.bias', tensor([0.8300]))]))"
      ]
     },
     "execution_count": 70,
     "metadata": {},
     "output_type": "execute_result"
    }
   ],
   "source": [
    "class LinearRegressionModelV2(nn.Module):\n",
    "    def __init__(self):\n",
    "        super().__init__()\n",
    "        self.linear_layer = nn.Linear(in_features=1, out_features=1)\n",
    "        \n",
    "\n",
    "    def forward(self, x:torch.Tensor)->torch.Tensor:\n",
    "        return self.linear_layer(x)\n",
    "    \n",
    "torch.manual_seed(42)\n",
    "model_1 = LinearRegressionModelV2().to(device)\n",
    "model_1, model_1.state_dict()"
   ]
  },
  {
   "cell_type": "code",
   "execution_count": 71,
   "metadata": {},
   "outputs": [],
   "source": [
    "loss_fn = nn.L1Loss()\n",
    "optimizer = torch.optim.Adam(params=model_1.parameters(), lr=0.01)"
   ]
  },
  {
   "cell_type": "code",
   "execution_count": 72,
   "metadata": {},
   "outputs": [
    {
     "name": "stderr",
     "output_type": "stream",
     "text": [
      "  0%|          | 0/200 [00:00<?, ?it/s]"
     ]
    },
    {
     "name": "stderr",
     "output_type": "stream",
     "text": [
      " 83%|████████▎ | 166/200 [00:00<00:00, 828.97it/s]"
     ]
    },
    {
     "name": "stdout",
     "output_type": "stream",
     "text": [
      "Epoch: 0 | MAE Train Loss: 0.5551779866218567 | MAE Test Loss: 0.568547248840332 \n",
      "Epoch: 10 | MAE Train Loss: 0.4161780774593353 | MAE Test Loss: 0.3795473873615265 \n",
      "Epoch: 20 | MAE Train Loss: 0.27717819809913635 | MAE Test Loss: 0.19054758548736572 \n",
      "Epoch: 30 | MAE Train Loss: 0.13817831873893738 | MAE Test Loss: 0.012273055501282215 \n",
      "Epoch: 40 | MAE Train Loss: 0.06483234465122223 | MAE Test Loss: 0.15948258340358734 \n",
      "Epoch: 50 | MAE Train Loss: 0.06953977048397064 | MAE Test Loss: 0.19462481141090393 \n",
      "Epoch: 60 | MAE Train Loss: 0.0556403286755085 | MAE Test Loss: 0.14198976755142212 \n",
      "Epoch: 70 | MAE Train Loss: 0.0445832721889019 | MAE Test Loss: 0.08211381733417511 \n",
      "Epoch: 80 | MAE Train Loss: 0.03573416918516159 | MAE Test Loss: 0.06503848731517792 \n",
      "Epoch: 90 | MAE Train Loss: 0.025599658489227295 | MAE Test Loss: 0.05930420011281967 \n",
      "Epoch: 100 | MAE Train Loss: 0.015041215345263481 | MAE Test Loss: 0.02901391312479973 \n",
      "Epoch: 110 | MAE Train Loss: 0.004283720161765814 | MAE Test Loss: 0.008546513505280018 \n",
      "Epoch: 120 | MAE Train Loss: 0.0037691467441618443 | MAE Test Loss: 0.009793078526854515 \n",
      "Epoch: 130 | MAE Train Loss: 0.0002783544478006661 | MAE Test Loss: 0.0004135310591664165 \n",
      "Epoch: 140 | MAE Train Loss: 0.0009311817702837288 | MAE Test Loss: 0.00061922671739012 \n",
      "Epoch: 150 | MAE Train Loss: 0.0006548240780830383 | MAE Test Loss: 0.0013327300548553467 \n",
      "Epoch: 160 | MAE Train Loss: 0.0004108540597371757 | MAE Test Loss: 0.0038405717350542545 \n"
     ]
    },
    {
     "name": "stderr",
     "output_type": "stream",
     "text": [
      "100%|██████████| 200/200 [00:00<00:00, 822.10it/s]"
     ]
    },
    {
     "name": "stdout",
     "output_type": "stream",
     "text": [
      "Epoch: 170 | MAE Train Loss: 0.0007727757329121232 | MAE Test Loss: 0.0021833181381225586 \n",
      "Epoch: 180 | MAE Train Loss: 0.00021931901574134827 | MAE Test Loss: 0.0018166005611419678 \n",
      "Epoch: 190 | MAE Train Loss: 0.0019032970303669572 | MAE Test Loss: 0.0016056358581408858 \n"
     ]
    },
    {
     "name": "stderr",
     "output_type": "stream",
     "text": [
      "\n"
     ]
    }
   ],
   "source": [
    "torch.manual_seed(42)\n",
    "epochs = 200\n",
    "X_train = X_train.to(device)\n",
    "y_train = y_train.to(device)\n",
    "X_test = X_test.to(device)\n",
    "y_test = y_test.to(device)\n",
    "for epoch in tqdm(range(epochs)):\n",
    "    model_1.train()\n",
    "    y_pred = model_1(X_train)\n",
    "    loss = loss_fn(y_pred, y_train)\n",
    "    optimizer.zero_grad()\n",
    "    loss.backward()\n",
    "    optimizer.step()\n",
    "    model_1.eval()\n",
    "    with torch.inference_mode():\n",
    "        test_pred = model_1(X_test)\n",
    "        test_loss = loss_fn(test_pred, y_test.type(torch.float))\n",
    "        if epoch % 10 == 0:\n",
    "            print(f\"Epoch: {epoch} | MAE Train Loss: {loss} | MAE Test Loss: {test_loss} \")\n",
    "\n"
   ]
  },
  {
   "cell_type": "code",
   "execution_count": 74,
   "metadata": {},
   "outputs": [
    {
     "name": "stdout",
     "output_type": "stream",
     "text": [
      "Number of testing samples: 10\n",
      "Number of predictions made: 10\n",
      "Predicted value:\n",
      "tensor([[0.8635],\n",
      "        [0.8776],\n",
      "        [0.8917],\n",
      "        [0.9057],\n",
      "        [0.9198],\n",
      "        [0.9339],\n",
      "        [0.9480],\n",
      "        [0.9620],\n",
      "        [0.9761],\n",
      "        [0.9902]])\n"
     ]
    },
    {
     "data": {
      "image/png": "[encoded data removed]",
      "text/plain": [
       "<Figure size 1000x700 with 1 Axes>"
      ]
     },
     "metadata": {},
     "output_type": "display_data"
    }
   ],
   "source": [
    "model_1.state_dict()\n",
    "with torch.inference_mode():\n",
    "    y_preds = model_0(X_test)\n",
    "\n",
    "print(f'Number of testing samples: {len(X_test)}')\n",
    "print(f'Number of predictions made: {len(y_preds)}')\n",
    "print(f'Predicted value:\\n{y_preds}')\n",
    "\n",
    "plot_predictions(X_train.cpu(), y_train.cpu(), X_test.cpu(), y_test.cpu(), y_preds.cpu())\n"
   ]
  }
 ],
 "metadata": {
  "kaggle": {
   "accelerator": "gpu",
   "dataSources": [],
   "dockerImageVersionId": 30919,
   "isGpuEnabled": true,
   "isInternetEnabled": true,
   "language": "python",
   "sourceType": "notebook"
  },
  "kernelspec": {
   "display_name": "AI_ENV",
   "language": "python",
   "name": "python3"
  },
  "language_info": {
   "codemirror_mode": {
    "name": "ipython",
    "version": 3
   },
   "file_extension": ".py",
   "mimetype": "text/x-python",
   "name": "python",
   "nbconvert_exporter": "python",
   "pygments_lexer": "ipython3",
   "version": "3.11.11"
  }
 },
 "nbformat": 4,
 "nbformat_minor": 4
}
